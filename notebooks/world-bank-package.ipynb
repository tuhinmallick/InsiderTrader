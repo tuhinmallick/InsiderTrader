{
 "cells": [
  {
   "cell_type": "markdown",
   "id": "90700fdc-fcc7-4e54-8c9e-449879d8c66d",
   "metadata": {
    "tags": []
   },
   "source": [
    "# Package Example\n",
    "\n",
    "> The following is an example of on how to use and distribute the source code of your project as a [Python package](https://packaging.python.org) using the <span style=\"color:#3EACAD\">template</span>."
   ]
  },
  {
   "attachments": {},
   "cell_type": "markdown",
   "id": "14e89727",
   "metadata": {},
   "source": [
    "## Usage"
   ]
  },
  {
   "cell_type": "markdown",
   "id": "b4c0f3e8-7756-41bb-aa21-cc2eee5ff67f",
   "metadata": {},
   "source": [
    "Unlike the [previous example](https://worldbank.github.io/template/notebooks/world-bank-api.html), where the source code was contained on the Jupyter notebok itself, we (re)use a Python package - the [datalab](https://github.com/worldbank/template/tree/main/src/datalab) Python package - which will let us (re)use any attributes and methods in the following example.\n",
    "\n",
    "Let's start by importing `WorldBankIndicatorsAPI`, a Pyhton API wrapper class created to faciliate the usage of the [World Bank Indicators API](https://datahelpdesk.worldbank.org/knowledgebase/articles/889392-about-the-indicators-api-documentation)."
   ]
  },
  {
   "cell_type": "code",
   "execution_count": null,
   "id": "a36264a4",
   "metadata": {},
   "outputs": [],
   "source": [
    "from insider_eda.eda_base import exploratory_data_analysis"
   ]
  },
  {
   "cell_type": "code",
   "execution_count": 23,
   "id": "b1d233b3",
   "metadata": {},
   "outputs": [],
   "source": [
    "import pandas as pd\n",
    "from datetime import timedelta "
   ]
  },
  {
   "cell_type": "code",
   "execution_count": 8,
   "id": "8537861c",
   "metadata": {},
   "outputs": [],
   "source": [
    "ticker = 'CAT'"
   ]
  },
  {
   "cell_type": "markdown",
   "id": "17f380e4-3854-4af6-940c-7afe9723a59a",
   "metadata": {},
   "source": [
    "Let's continue by creating the API object. "
   ]
  },
  {
   "cell_type": "code",
   "execution_count": 13,
   "id": "a8799b36",
   "metadata": {},
   "outputs": [
    {
     "name": "stdout",
     "output_type": "stream",
     "text": [
      "/workspaces/InsiderTrader/notebooks\n"
     ]
    }
   ],
   "source": [
    "import os\n",
    "print(os. getcwd())"
   ]
  },
  {
   "cell_type": "code",
   "execution_count": 19,
   "id": "47f8f3ef",
   "metadata": {},
   "outputs": [
    {
     "name": "stderr",
     "output_type": "stream",
     "text": [
      "/tmp/ipykernel_12091/2721691119.py:3: FutureWarning: In a future version of pandas all arguments of DataFrame.drop except for the argument 'labels' will be keyword-only.\n",
      "  f = df.drop(\"SEC Form 4\", 1)  # This column has no use in analysis\n"
     ]
    }
   ],
   "source": [
    "df = pd.read_csv(f\"../data/insider_data/{ticker}.csv\")\n",
    "\n",
    "f = df.drop(\"SEC Form 4\", 1)  # This column has no use in analysis\n",
    "\n",
    "df[\"Date\"] = pd.to_datetime(\n",
    "    df[\"Date\"], errors=\"coerce\"\n",
    ")  # Making sure date format is maintained\n",
    "\n",
    "# removing comma from  numeric value\n",
    "df[\"Shares Total\"] = [x.replace(\",\", \"\") for x in df[\"Shares Total\"]]\n",
    "df[\"Shares\"] = [x.replace(\",\", \"\") for x in df[\"Shares\"]]\n",
    "df[\"Value ($)\"] = [x.replace(\",\", \"\") for x in df[\"Value ($)\"]]\n",
    "\n",
    "# Making sure that columns are numeric\n",
    "df[\"Cost\"] = pd.to_numeric(df[\"Cost\"])\n",
    "df[\"Shares\"] = pd.to_numeric(df[\"Shares\"])\n",
    "df[\"Value ($)\"] = pd.to_numeric(df[\"Value ($)\"])\n",
    "df[\"Shares Total\"] = pd.to_numeric(df[\"Shares Total\"])"
   ]
  },
  {
   "cell_type": "code",
   "execution_count": 24,
   "id": "97d213fa",
   "metadata": {},
   "outputs": [
    {
     "data": {
      "text/html": [
       "<div>\n",
       "<style scoped>\n",
       "    .dataframe tbody tr th:only-of-type {\n",
       "        vertical-align: middle;\n",
       "    }\n",
       "\n",
       "    .dataframe tbody tr th {\n",
       "        vertical-align: top;\n",
       "    }\n",
       "\n",
       "    .dataframe thead th {\n",
       "        text-align: right;\n",
       "    }\n",
       "</style>\n",
       "<table border=\"1\" class=\"dataframe\">\n",
       "  <thead>\n",
       "    <tr style=\"text-align: right;\">\n",
       "      <th></th>\n",
       "      <th>Date</th>\n",
       "      <th>Open</th>\n",
       "      <th>High</th>\n",
       "      <th>Low</th>\n",
       "      <th>Close</th>\n",
       "      <th>Volume</th>\n",
       "      <th>Dividends</th>\n",
       "      <th>Stock Splits</th>\n",
       "    </tr>\n",
       "  </thead>\n",
       "  <tbody>\n",
       "    <tr>\n",
       "      <th>0</th>\n",
       "      <td>2022-05-18</td>\n",
       "      <td>0.495367</td>\n",
       "      <td>0.500192</td>\n",
       "      <td>0.490542</td>\n",
       "      <td>0.495367</td>\n",
       "      <td>163200</td>\n",
       "      <td>0.000000</td>\n",
       "      <td>0.0</td>\n",
       "    </tr>\n",
       "    <tr>\n",
       "      <th>1</th>\n",
       "      <td>2022-05-05</td>\n",
       "      <td>0.495367</td>\n",
       "      <td>0.500192</td>\n",
       "      <td>0.490542</td>\n",
       "      <td>0.500192</td>\n",
       "      <td>156000</td>\n",
       "      <td>0.000000</td>\n",
       "      <td>0.0</td>\n",
       "    </tr>\n",
       "    <tr>\n",
       "      <th>2</th>\n",
       "      <td>2022-04-21</td>\n",
       "      <td>0.511450</td>\n",
       "      <td>0.527533</td>\n",
       "      <td>0.511450</td>\n",
       "      <td>0.513058</td>\n",
       "      <td>355200</td>\n",
       "      <td>0.000000</td>\n",
       "      <td>0.0</td>\n",
       "    </tr>\n",
       "    <tr>\n",
       "      <th>3</th>\n",
       "      <td>2022-04-21</td>\n",
       "      <td>0.513058</td>\n",
       "      <td>0.524317</td>\n",
       "      <td>0.511450</td>\n",
       "      <td>0.517883</td>\n",
       "      <td>163200</td>\n",
       "      <td>0.000000</td>\n",
       "      <td>0.0</td>\n",
       "    </tr>\n",
       "    <tr>\n",
       "      <th>4</th>\n",
       "      <td>2022-04-20</td>\n",
       "      <td>0.517883</td>\n",
       "      <td>0.525925</td>\n",
       "      <td>0.514666</td>\n",
       "      <td>0.521100</td>\n",
       "      <td>204000</td>\n",
       "      <td>0.000000</td>\n",
       "      <td>0.0</td>\n",
       "    </tr>\n",
       "    <tr>\n",
       "      <th>5</th>\n",
       "      <td>2022-04-20</td>\n",
       "      <td>0.521100</td>\n",
       "      <td>0.530750</td>\n",
       "      <td>0.516275</td>\n",
       "      <td>0.525925</td>\n",
       "      <td>290400</td>\n",
       "      <td>0.000000</td>\n",
       "      <td>0.0</td>\n",
       "    </tr>\n",
       "    <tr>\n",
       "      <th>6</th>\n",
       "      <td>2022-04-20</td>\n",
       "      <td>0.525925</td>\n",
       "      <td>0.529142</td>\n",
       "      <td>0.517883</td>\n",
       "      <td>0.519492</td>\n",
       "      <td>182400</td>\n",
       "      <td>0.000000</td>\n",
       "      <td>0.0</td>\n",
       "    </tr>\n",
       "    <tr>\n",
       "      <th>7</th>\n",
       "      <td>2022-03-17</td>\n",
       "      <td>0.519492</td>\n",
       "      <td>0.527533</td>\n",
       "      <td>0.514667</td>\n",
       "      <td>0.527533</td>\n",
       "      <td>384000</td>\n",
       "      <td>0.000000</td>\n",
       "      <td>0.0</td>\n",
       "    </tr>\n",
       "    <tr>\n",
       "      <th>8</th>\n",
       "      <td>2022-03-17</td>\n",
       "      <td>0.527533</td>\n",
       "      <td>0.537183</td>\n",
       "      <td>0.521100</td>\n",
       "      <td>0.530750</td>\n",
       "      <td>352800</td>\n",
       "      <td>0.000000</td>\n",
       "      <td>0.0</td>\n",
       "    </tr>\n",
       "    <tr>\n",
       "      <th>9</th>\n",
       "      <td>2022-03-09</td>\n",
       "      <td>0.530750</td>\n",
       "      <td>0.533967</td>\n",
       "      <td>0.521100</td>\n",
       "      <td>0.529142</td>\n",
       "      <td>280800</td>\n",
       "      <td>0.000000</td>\n",
       "      <td>0.0</td>\n",
       "    </tr>\n",
       "    <tr>\n",
       "      <th>10</th>\n",
       "      <td>2022-02-16</td>\n",
       "      <td>0.527523</td>\n",
       "      <td>0.527523</td>\n",
       "      <td>0.521051</td>\n",
       "      <td>0.524287</td>\n",
       "      <td>163200</td>\n",
       "      <td>0.010417</td>\n",
       "      <td>0.0</td>\n",
       "    </tr>\n",
       "    <tr>\n",
       "      <th>11</th>\n",
       "      <td>2022-02-07</td>\n",
       "      <td>0.524287</td>\n",
       "      <td>0.530759</td>\n",
       "      <td>0.521050</td>\n",
       "      <td>0.522669</td>\n",
       "      <td>160800</td>\n",
       "      <td>0.000000</td>\n",
       "      <td>0.0</td>\n",
       "    </tr>\n",
       "    <tr>\n",
       "      <th>12</th>\n",
       "      <td>2022-01-18</td>\n",
       "      <td>0.522669</td>\n",
       "      <td>0.533996</td>\n",
       "      <td>0.522669</td>\n",
       "      <td>0.533996</td>\n",
       "      <td>261600</td>\n",
       "      <td>0.000000</td>\n",
       "      <td>0.0</td>\n",
       "    </tr>\n",
       "    <tr>\n",
       "      <th>13</th>\n",
       "      <td>2022-01-07</td>\n",
       "      <td>0.533996</td>\n",
       "      <td>0.543705</td>\n",
       "      <td>0.524287</td>\n",
       "      <td>0.543705</td>\n",
       "      <td>357600</td>\n",
       "      <td>0.000000</td>\n",
       "      <td>0.0</td>\n",
       "    </tr>\n",
       "    <tr>\n",
       "      <th>14</th>\n",
       "      <td>2022-01-07</td>\n",
       "      <td>0.543705</td>\n",
       "      <td>0.550178</td>\n",
       "      <td>0.542087</td>\n",
       "      <td>0.542087</td>\n",
       "      <td>261600</td>\n",
       "      <td>0.000000</td>\n",
       "      <td>0.0</td>\n",
       "    </tr>\n",
       "    <tr>\n",
       "      <th>15</th>\n",
       "      <td>2022-01-07</td>\n",
       "      <td>0.542087</td>\n",
       "      <td>0.546942</td>\n",
       "      <td>0.530760</td>\n",
       "      <td>0.530760</td>\n",
       "      <td>223200</td>\n",
       "      <td>0.000000</td>\n",
       "      <td>0.0</td>\n",
       "    </tr>\n",
       "    <tr>\n",
       "      <th>16</th>\n",
       "      <td>2022-01-07</td>\n",
       "      <td>0.530760</td>\n",
       "      <td>0.530760</td>\n",
       "      <td>0.517814</td>\n",
       "      <td>0.527523</td>\n",
       "      <td>120000</td>\n",
       "      <td>0.000000</td>\n",
       "      <td>0.0</td>\n",
       "    </tr>\n",
       "    <tr>\n",
       "      <th>17</th>\n",
       "      <td>2021-11-01</td>\n",
       "      <td>0.527524</td>\n",
       "      <td>0.535614</td>\n",
       "      <td>0.525905</td>\n",
       "      <td>0.530760</td>\n",
       "      <td>151200</td>\n",
       "      <td>0.000000</td>\n",
       "      <td>0.0</td>\n",
       "    </tr>\n",
       "    <tr>\n",
       "      <th>18</th>\n",
       "      <td>2021-08-04</td>\n",
       "      <td>0.530760</td>\n",
       "      <td>0.535614</td>\n",
       "      <td>0.524287</td>\n",
       "      <td>0.530760</td>\n",
       "      <td>108000</td>\n",
       "      <td>0.000000</td>\n",
       "      <td>0.0</td>\n",
       "    </tr>\n",
       "  </tbody>\n",
       "</table>\n",
       "</div>"
      ],
      "text/plain": [
       "         Date      Open      High       Low     Close  Volume  Dividends  \\\n",
       "0  2022-05-18  0.495367  0.500192  0.490542  0.495367  163200   0.000000   \n",
       "1  2022-05-05  0.495367  0.500192  0.490542  0.500192  156000   0.000000   \n",
       "2  2022-04-21  0.511450  0.527533  0.511450  0.513058  355200   0.000000   \n",
       "3  2022-04-21  0.513058  0.524317  0.511450  0.517883  163200   0.000000   \n",
       "4  2022-04-20  0.517883  0.525925  0.514666  0.521100  204000   0.000000   \n",
       "5  2022-04-20  0.521100  0.530750  0.516275  0.525925  290400   0.000000   \n",
       "6  2022-04-20  0.525925  0.529142  0.517883  0.519492  182400   0.000000   \n",
       "7  2022-03-17  0.519492  0.527533  0.514667  0.527533  384000   0.000000   \n",
       "8  2022-03-17  0.527533  0.537183  0.521100  0.530750  352800   0.000000   \n",
       "9  2022-03-09  0.530750  0.533967  0.521100  0.529142  280800   0.000000   \n",
       "10 2022-02-16  0.527523  0.527523  0.521051  0.524287  163200   0.010417   \n",
       "11 2022-02-07  0.524287  0.530759  0.521050  0.522669  160800   0.000000   \n",
       "12 2022-01-18  0.522669  0.533996  0.522669  0.533996  261600   0.000000   \n",
       "13 2022-01-07  0.533996  0.543705  0.524287  0.543705  357600   0.000000   \n",
       "14 2022-01-07  0.543705  0.550178  0.542087  0.542087  261600   0.000000   \n",
       "15 2022-01-07  0.542087  0.546942  0.530760  0.530760  223200   0.000000   \n",
       "16 2022-01-07  0.530760  0.530760  0.517814  0.527523  120000   0.000000   \n",
       "17 2021-11-01  0.527524  0.535614  0.525905  0.530760  151200   0.000000   \n",
       "18 2021-08-04  0.530760  0.535614  0.524287  0.530760  108000   0.000000   \n",
       "\n",
       "    Stock Splits  \n",
       "0            0.0  \n",
       "1            0.0  \n",
       "2            0.0  \n",
       "3            0.0  \n",
       "4            0.0  \n",
       "5            0.0  \n",
       "6            0.0  \n",
       "7            0.0  \n",
       "8            0.0  \n",
       "9            0.0  \n",
       "10           0.0  \n",
       "11           0.0  \n",
       "12           0.0  \n",
       "13           0.0  \n",
       "14           0.0  \n",
       "15           0.0  \n",
       "16           0.0  \n",
       "17           0.0  \n",
       "18           0.0  "
      ]
     },
     "execution_count": 24,
     "metadata": {},
     "output_type": "execute_result"
    }
   ],
   "source": [
    "stock_df = pd.read_csv(f\"../data/sp500-stock-prices/{ticker}.csv\")\n",
    "\n",
    "stock_df[\"Date\"] = pd.to_datetime(\n",
    "    df[\"Date\"], errors=\"coerce\"\n",
    ")  # Making sure date format is maintained\n",
    "\n",
    "start_date = df.Date.iloc[-1] - timedelta(days=7)\n",
    "stock_df = stock_df[stock_df.Date > start_date]\n"
   ]
  },
  {
   "cell_type": "markdown",
   "id": "7fa96741-f4cd-4504-a5f8-6467f9a2345e",
   "metadata": {},
   "source": [
    "The `api` wrapper object is now ready to use! We will invoke its `query` method to retrieve data from the [World Bank Indicators API](https://datahelpdesk.worldbank.org/knowledgebase/articles/889392-about-the-indicators-api-documentation). To learn how to use it, such as information about  method signature, valid parameters and return value, we read `help`. Since [PEP 257](https://peps.python.org/pep-0257), Python offers *doctrings*, which are an easy and standard to create code documentation and it is a good practice adopt it. Documentating the source code is crucial to create a maintainable reliable and reproducicle code base and project.\n",
    "\n",
    "Let's see the `query` method's *docstring* as shown below."
   ]
  },
  {
   "cell_type": "code",
   "execution_count": null,
   "id": "fb6ca314-d161-40e1-a376-a3013a0711eb",
   "metadata": {},
   "outputs": [],
   "source": [
    "help(api.query)"
   ]
  },
  {
   "cell_type": "markdown",
   "id": "e82fc342-165d-42d6-b3dc-7534c215ca1f",
   "metadata": {},
   "source": [
    "The `query` method allows us to select an **indicator** (e.g, [World Development Indicators](https://datatopics.worldbank.org/world-development-indicators)), a list of countries and [query parameters](https://datahelpdesk.worldbank.org/knowledgebase/articles/898581#query-strings). Note that contrary to the [previous example](https://worldbank.github.io/template/notebooks/world-bank-api.html), the method expets a list of country names and converts them to [ISO 3166-1 alpha-3](https://www.iso.org/iso-3166-country-codes.html) automatically."
   ]
  },
  {
   "cell_type": "markdown",
   "id": "23b0a1eb-73c1-42e7-8903-98e362ef86de",
   "metadata": {},
   "source": [
    "Let's invoke the `query` method and retrieve the results for `SP.POP.TOTL` for the [BRICS](https://infobrics.org) (as before)."
   ]
  },
  {
   "cell_type": "code",
   "execution_count": null,
   "id": "7fb7daea-c5cf-42ea-b746-a565dd9ac4e1",
   "metadata": {},
   "outputs": [],
   "source": [
    "df = api.query(\n",
    "    \"SP.POP.TOTL\", country=[\"Brazil\", \"China\", \"India\", \"Russia\", \"South Africa\"]\n",
    ")"
   ]
  },
  {
   "cell_type": "markdown",
   "id": "46662c1b-4c19-424b-8a61-f651cb486c5b",
   "metadata": {},
   "source": [
    "**Voilà!** We just (re)used the [datalab](https://github.com/worldbank/template/tree/main/src/datalab) Python package in our example delegating the maintenance and logic, making the notebook easier to understand and reproduce. \n",
    "\n",
    "```{tip}\n",
    "In addition, the `<span style=\"color:#3EACAD\">template</span>` makes any Python package automatically [pip installable](https://packaging.python.org/en/latest/tutorials/installing-packages/) and acessible to *anyone* and from *anywhere*!\n",
    "\n",
    "To install from source:\n",
    "\n",
    "\tpip install git+https://github.com/worldbank/template.git\n",
    "\n",
    "To install from version:\n",
    "\n",
    "\tpip install git+https://github.com/worldbank/template.git@v0.1.0\n",
    "\t\n",
    "\n",
    "When distributing a project release, it is strongly recommended to adhere to release management good practices. It is recommended to create checklists, adopt versioning (e.g, [semantic versioning](https://semver.org/) and to release on [Python Package Index](https://pypi.org/) (instead of GitHub).\n",
    "```"
   ]
  },
  {
   "cell_type": "markdown",
   "id": "80887da5-0474-48b3-8c71-fbe3dbd3a8e8",
   "metadata": {},
   "source": [
    "```{tip}\n",
    "The <span style=\"color:#3EACAD\">template</span> will automatically find and install any local `src` packages as long as the `setup.cfg` file is up-to-date.\n",
    "```"
   ]
  },
  {
   "cell_type": "markdown",
   "id": "daa4319a-8936-4195-b1fc-aad9c008325b",
   "metadata": {},
   "source": [
    "```{caution}\n",
    "The `datalab` Python package shoudl be used for demonstration purposes only. For support, please see the [World Bank Indicators API Documentation](https://datahelpdesk.worldbank.org/knowledgebase/articles/889392-about-the-indicators-api-documentation).\n",
    "```"
   ]
  },
  {
   "cell_type": "markdown",
   "id": "e9f14239",
   "metadata": {},
   "source": [
    "Finally, let's take a look at the retrieved data."
   ]
  },
  {
   "cell_type": "code",
   "execution_count": null,
   "id": "b1d7cf70-bf0e-4c12-ae0d-fd26349291db",
   "metadata": {
    "tags": [
     "remove-cell"
    ]
   },
   "outputs": [],
   "source": [
    "df = df.pivot_table(values=\"value\", index=\"date\", columns=\"country.value\")"
   ]
  },
  {
   "cell_type": "code",
   "execution_count": null,
   "id": "699a0495-4f06-479c-b517-58336110547f",
   "metadata": {
    "tags": [
     "output_scroll"
    ]
   },
   "outputs": [],
   "source": [
    "df"
   ]
  },
  {
   "cell_type": "markdown",
   "id": "c5daa85a-004d-4e93-be84-72d064d0b83b",
   "metadata": {},
   "source": [
    "## Visualization\n",
    "\n",
    "As before, let's now plot the data as a time series using [Bokeh](https://docs.bokeh.org)."
   ]
  },
  {
   "cell_type": "code",
   "execution_count": null,
   "id": "5d6be794-9e37-4ee2-94df-b40dff3ace6a",
   "metadata": {
    "tags": [
     "hide-input"
    ]
   },
   "outputs": [],
   "source": [
    "import itertools\n",
    "\n",
    "import bokeh\n",
    "from bokeh.palettes import Spectral6\n",
    "from bokeh.plotting import figure, output_notebook, show\n",
    "\n",
    "output_notebook()\n",
    "\n",
    "# instantiating the figure object\n",
    "p = figure(title=\"Population, total (World Bank)\", width=700, height=600)\n",
    "\n",
    "# colors\n",
    "colors = itertools.cycle(Spectral6)\n",
    "\n",
    "# plotting the line graph\n",
    "for column, color in zip(df.columns, colors):\n",
    "    p.line(\n",
    "        df.index,\n",
    "        df[column],\n",
    "        legend_label=column,\n",
    "        color=color,\n",
    "        line_width=2,\n",
    "    )\n",
    "\n",
    "p.legend.location = \"right\"\n",
    "p.legend.click_policy = \"mute\"\n",
    "p.title.text_font_size = \"12pt\"\n",
    "\n",
    "p.xaxis.axis_label = \"Year\"\n",
    "p.yaxis.axis_label = \"Population, total (in millions)\"\n",
    "\n",
    "show(p)"
   ]
  }
 ],
 "metadata": {
  "kernelspec": {
   "display_name": "Python 3",
   "language": "python",
   "name": "python3"
  },
  "language_info": {
   "codemirror_mode": {
    "name": "ipython",
    "version": 3
   },
   "file_extension": ".py",
   "mimetype": "text/x-python",
   "name": "python",
   "nbconvert_exporter": "python",
   "pygments_lexer": "ipython3",
   "version": "3.10.4"
  },
  "vscode": {
   "interpreter": {
    "hash": "3ad933181bd8a04b432d3370b9dc3b0662ad032c4dfaa4e4f1596c548f763858"
   }
  }
 },
 "nbformat": 4,
 "nbformat_minor": 5
}
