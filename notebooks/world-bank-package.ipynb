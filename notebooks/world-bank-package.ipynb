{
 "cells": [
  {
   "cell_type": "markdown",
   "id": "90700fdc-fcc7-4e54-8c9e-449879d8c66d",
   "metadata": {
    "tags": []
   },
   "source": [
    "# Package Example\n",
    "\n",
    "> The following is an example of on how to use and distribute the source code of your project as a [Python package](https://packaging.python.org) using the <span style=\"color:#3EACAD\">template</span>."
   ]
  },
  {
   "attachments": {},
   "cell_type": "markdown",
   "id": "14e89727",
   "metadata": {},
   "source": [
    "## Usage"
   ]
  },
  {
   "cell_type": "markdown",
   "id": "b4c0f3e8-7756-41bb-aa21-cc2eee5ff67f",
   "metadata": {},
   "source": [
    "Unlike the [previous example](https://worldbank.github.io/template/notebooks/world-bank-api.html), where the source code was contained on the Jupyter notebok itself, we (re)use a Python package - the [datalab](https://github.com/worldbank/template/tree/main/src/datalab) Python package - which will let us (re)use any attributes and methods in the following example.\n",
    "\n",
    "Let's start by importing `WorldBankIndicatorsAPI`, a Pyhton API wrapper class created to faciliate the usage of the [World Bank Indicators API](https://datahelpdesk.worldbank.org/knowledgebase/articles/889392-about-the-indicators-api-documentation)."
   ]
  },
  {
   "cell_type": "code",
   "execution_count": 1,
   "id": "9cd574b5",
   "metadata": {},
   "outputs": [],
   "source": [
    "import os\n",
    "import sys\n",
    "sys.path.insert(0, os.path.abspath('../src'))"
   ]
  },
  {
   "cell_type": "code",
   "execution_count": 3,
   "id": "a36264a4",
   "metadata": {},
   "outputs": [],
   "source": [
    "from insider_eda.eda_base import Exploratory_data_analysis"
   ]
  },
  {
   "cell_type": "code",
   "execution_count": 4,
   "id": "b1d233b3",
   "metadata": {},
   "outputs": [],
   "source": [
    "import pandas as pd\n",
    "from datetime import timedelta "
   ]
  },
  {
   "cell_type": "code",
   "execution_count": 5,
   "id": "8537861c",
   "metadata": {},
   "outputs": [],
   "source": [
    "ticker = 'CAT'"
   ]
  },
  {
   "cell_type": "markdown",
   "id": "17f380e4-3854-4af6-940c-7afe9723a59a",
   "metadata": {},
   "source": [
    "Let's continue by creating the API object. "
   ]
  },
  {
   "cell_type": "code",
   "execution_count": 10,
   "id": "47f8f3ef",
   "metadata": {},
   "outputs": [],
   "source": [
    "df = pd.read_csv(f\"../data/insider_data/{ticker}.csv\")\n",
    "\n",
    "f = df.drop( columns=\"SEC Form 4\", axis=1)  # This column has no use in analysis\n",
    "\n",
    "df[\"Date\"] = pd.to_datetime(\n",
    "    df[\"Date\"], errors=\"coerce\"\n",
    ")  # Making sure date format is maintained\n",
    "\n",
    "# removing comma from  numeric value\n",
    "df[\"Shares Total\"] = [x.replace(\",\", \"\") for x in df[\"Shares Total\"]]\n",
    "df[\"Shares\"] = [x.replace(\",\", \"\") for x in df[\"Shares\"]]\n",
    "df[\"Value ($)\"] = [x.replace(\",\", \"\") for x in df[\"Value ($)\"]]\n",
    "\n",
    "# Making sure that columns are numeric\n",
    "df[\"Cost\"] = pd.to_numeric(df[\"Cost\"])\n",
    "df[\"Shares\"] = pd.to_numeric(df[\"Shares\"])\n",
    "df[\"Value ($)\"] = pd.to_numeric(df[\"Value ($)\"])\n",
    "df[\"Shares Total\"] = pd.to_numeric(df[\"Shares Total\"])"
   ]
  },
  {
   "cell_type": "code",
   "execution_count": 7,
   "id": "97d213fa",
   "metadata": {},
   "outputs": [],
   "source": [
    "stock_df = pd.read_csv(f\"../data/sp500-stock-prices/{ticker}.csv\")\n",
    "\n",
    "stock_df[\"Date\"] = pd.to_datetime(\n",
    "    df[\"Date\"], errors=\"coerce\"\n",
    ")  # Making sure date format is maintained\n",
    "\n",
    "start_date = df.Date.iloc[-1] - timedelta(days=7)\n",
    "stock_df = stock_df[stock_df.Date > start_date]\n"
   ]
  },
  {
   "cell_type": "code",
   "execution_count": 8,
   "id": "745fcce3",
   "metadata": {},
   "outputs": [],
   "source": [
    "eda = Exploratory_data_analysis(df)"
   ]
  },
  {
   "cell_type": "code",
   "execution_count": null,
   "id": "84983fe5",
   "metadata": {},
   "outputs": [],
   "source": []
  }
 ],
 "metadata": {
  "kernelspec": {
   "display_name": "eda",
   "language": "python",
   "name": "python3"
  },
  "language_info": {
   "codemirror_mode": {
    "name": "ipython",
    "version": 3
   },
   "file_extension": ".py",
   "mimetype": "text/x-python",
   "name": "python",
   "nbconvert_exporter": "python",
   "pygments_lexer": "ipython3",
   "version": "3.10.9"
  },
  "vscode": {
   "interpreter": {
    "hash": "f118d4fdc0ec2c534f6de093a8907f7bf1ebf29dfbd5febc0fda61077ae9d851"
   }
  }
 },
 "nbformat": 4,
 "nbformat_minor": 5
}
