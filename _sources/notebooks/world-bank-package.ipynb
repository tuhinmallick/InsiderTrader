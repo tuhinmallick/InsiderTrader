{
 "cells": [
  {
   "cell_type": "markdown",
   "id": "90700fdc-fcc7-4e54-8c9e-449879d8c66d",
   "metadata": {
    "tags": []
   },
   "source": [
    "# Package Example\n",
    "\n",
    "> The following is an example of on how to use and distribute the source code of your project as a [Python package](https://packaging.python.org) using the <span style=\"color:#3EACAD\">template</span>."
   ]
  },
  {
   "cell_type": "markdown",
   "id": "14e89727",
   "metadata": {},
   "source": [
    "## Usage"
   ]
  },
  {
   "cell_type": "markdown",
   "id": "b4c0f3e8-7756-41bb-aa21-cc2eee5ff67f",
   "metadata": {},
   "source": [
    "Unlike the [previous example](https://worldbank.github.io/template/notebooks/world-bank-api.html), where the source code was contained on the Jupyter notebok itself, we (re)use a Python package - the [datalab](https://github.com/worldbank/template/tree/main/src/datalab) Python package - which will let us (re)use any attributes and methods in the following example.\n",
    "\n",
    "Let's start by importing `WorldBankIndicatorsAPI`, a Pyhton API wrapper class created to faciliate the usage of the [World Bank Indicators API](https://datahelpdesk.worldbank.org/knowledgebase/articles/889392-about-the-indicators-api-documentation)."
   ]
  },
  {
   "cell_type": "code",
   "execution_count": null,
   "id": "d797ef77-6ca4-4f9d-a1f8-abbfd9884b07",
   "metadata": {},
   "outputs": [],
   "source": [
    "from datalab.indicators import WorldBankIndicatorsAPI"
   ]
  },
  {
   "cell_type": "markdown",
   "id": "17f380e4-3854-4af6-940c-7afe9723a59a",
   "metadata": {},
   "source": [
    "Let's continue by creating the API object. "
   ]
  },
  {
   "cell_type": "code",
   "execution_count": null,
   "id": "f911a5c3-6994-45a6-a049-4b398f5890c0",
   "metadata": {},
   "outputs": [],
   "source": [
    "api = WorldBankIndicatorsAPI()"
   ]
  },
  {
   "cell_type": "markdown",
   "id": "7fa96741-f4cd-4504-a5f8-6467f9a2345e",
   "metadata": {},
   "source": [
    "The `api` wrapper object is now ready to use! We will invoke its `query` method to retrieve data from the [World Bank Indicators API](https://datahelpdesk.worldbank.org/knowledgebase/articles/889392-about-the-indicators-api-documentation). To learn how to use it, such as information about  method signature, valid parameters and return value, we read `help`. Since [PEP 257](https://peps.python.org/pep-0257), Python offers *doctrings*, which are an easy and standard to create code documentation and it is a good practice adopt it. Documentating the source code is crucial to create a maintainable reliable and reproducicle code base and project.\n",
    "\n",
    "Let's see the `query` method's *docstring* as shown below."
   ]
  },
  {
   "cell_type": "code",
   "execution_count": null,
   "id": "fb6ca314-d161-40e1-a376-a3013a0711eb",
   "metadata": {},
   "outputs": [],
   "source": [
    "help(api.query)"
   ]
  },
  {
   "cell_type": "markdown",
   "id": "e82fc342-165d-42d6-b3dc-7534c215ca1f",
   "metadata": {},
   "source": [
    "The `query` method allows us to select an **indicator** (e.g, [World Development Indicators](https://datatopics.worldbank.org/world-development-indicators)), a list of countries and [query parameters](https://datahelpdesk.worldbank.org/knowledgebase/articles/898581#query-strings). Note that contrary to the [previous example](https://worldbank.github.io/template/notebooks/world-bank-api.html), the method expets a list of country names and converts them to [ISO 3166-1 alpha-3](https://www.iso.org/iso-3166-country-codes.html) automatically."
   ]
  },
  {
   "cell_type": "markdown",
   "id": "23b0a1eb-73c1-42e7-8903-98e362ef86de",
   "metadata": {},
   "source": [
    "Let's invoke the `query` method and retrieve the results for `SP.POP.TOTL` for the [BRICS](https://infobrics.org) (as before)."
   ]
  },
  {
   "cell_type": "code",
   "execution_count": null,
   "id": "7fb7daea-c5cf-42ea-b746-a565dd9ac4e1",
   "metadata": {},
   "outputs": [],
   "source": [
    "df = api.query(\n",
    "    \"SP.POP.TOTL\", country=[\"Brazil\", \"China\", \"India\", \"Russia\", \"South Africa\"]\n",
    ")"
   ]
  },
  {
   "cell_type": "markdown",
   "id": "46662c1b-4c19-424b-8a61-f651cb486c5b",
   "metadata": {},
   "source": [
    "**Voilà!** We just (re)used the [datalab](https://github.com/worldbank/template/tree/main/src/datalab) Python package in our example delegating the maintenance and logic, making the notebook easier to understand and reproduce. \n",
    "\n",
    "```{tip}\n",
    "In addition, the `<span style=\"color:#3EACAD\">template</span>` makes any Python package automatically [pip installable](https://packaging.python.org/en/latest/tutorials/installing-packages/) and acessible to *anyone* and from *anywhere*!\n",
    "\n",
    "To install from source:\n",
    "\n",
    "\tpip install git+https://github.com/worldbank/template.git\n",
    "\n",
    "To install from version:\n",
    "\n",
    "\tpip install git+https://github.com/worldbank/template.git@v0.1.0\n",
    "\t\n",
    "\n",
    "When distributing a project release, it is strongly recommended to adhere to release management good practices. It is recommended to create checklists, adopt versioning (e.g, [semantic versioning](https://semver.org/) and to release on [Python Package Index](https://pypi.org/) (instead of GitHub).\n",
    "```"
   ]
  },
  {
   "cell_type": "markdown",
   "id": "80887da5-0474-48b3-8c71-fbe3dbd3a8e8",
   "metadata": {},
   "source": [
    "```{tip}\n",
    "The <span style=\"color:#3EACAD\">template</span> will automatically find and install any local `src` packages as long as the `setup.cfg` file is up-to-date.\n",
    "```"
   ]
  },
  {
   "cell_type": "markdown",
   "id": "daa4319a-8936-4195-b1fc-aad9c008325b",
   "metadata": {},
   "source": [
    "```{caution}\n",
    "The `datalab` Python package shoudl be used for demonstration purposes only. For support, please see the [World Bank Indicators API Documentation](https://datahelpdesk.worldbank.org/knowledgebase/articles/889392-about-the-indicators-api-documentation).\n",
    "```"
   ]
  },
  {
   "cell_type": "markdown",
   "id": "e9f14239",
   "metadata": {},
   "source": [
    "Finally, let's take a look at the retrieved data."
   ]
  },
  {
   "cell_type": "code",
   "execution_count": null,
   "id": "b1d7cf70-bf0e-4c12-ae0d-fd26349291db",
   "metadata": {
    "tags": [
     "remove-cell"
    ]
   },
   "outputs": [],
   "source": [
    "df = df.pivot_table(values=\"value\", index=\"date\", columns=\"country.value\")"
   ]
  },
  {
   "cell_type": "code",
   "execution_count": null,
   "id": "699a0495-4f06-479c-b517-58336110547f",
   "metadata": {
    "tags": [
     "output_scroll"
    ]
   },
   "outputs": [],
   "source": [
    "df"
   ]
  },
  {
   "cell_type": "markdown",
   "id": "c5daa85a-004d-4e93-be84-72d064d0b83b",
   "metadata": {},
   "source": [
    "## Visualization\n",
    "\n",
    "As before, let's now plot the data as a time series using [Bokeh](https://docs.bokeh.org)."
   ]
  },
  {
   "cell_type": "code",
   "execution_count": null,
   "id": "5d6be794-9e37-4ee2-94df-b40dff3ace6a",
   "metadata": {
    "tags": [
     "hide-input"
    ]
   },
   "outputs": [],
   "source": [
    "import itertools\n",
    "\n",
    "import bokeh\n",
    "from bokeh.palettes import Spectral6\n",
    "from bokeh.plotting import figure, output_notebook, show\n",
    "\n",
    "output_notebook()\n",
    "\n",
    "# instantiating the figure object\n",
    "p = figure(title=\"Population, total (World Bank)\", width=700, height=600)\n",
    "\n",
    "# colors\n",
    "colors = itertools.cycle(Spectral6)\n",
    "\n",
    "# plotting the line graph\n",
    "for column, color in zip(df.columns, colors):\n",
    "    p.line(\n",
    "        df.index,\n",
    "        df[column],\n",
    "        legend_label=column,\n",
    "        color=color,\n",
    "        line_width=2,\n",
    "    )\n",
    "\n",
    "p.legend.location = \"right\"\n",
    "p.legend.click_policy = \"mute\"\n",
    "p.title.text_font_size = \"12pt\"\n",
    "\n",
    "p.xaxis.axis_label = \"Year\"\n",
    "p.yaxis.axis_label = \"Population, total (in millions)\"\n",
    "\n",
    "show(p)"
   ]
  }
 ],
 "metadata": {
  "kernelspec": {
   "display_name": "Python 3 (ipykernel)",
   "language": "python",
   "name": "python3"
  },
  "language_info": {
   "codemirror_mode": {
    "name": "ipython",
    "version": 3
   },
   "file_extension": ".py",
   "mimetype": "text/x-python",
   "name": "python",
   "nbconvert_exporter": "python",
   "pygments_lexer": "ipython3",
   "version": "3.9.12"
  },
  "vscode": {
   "interpreter": {
    "hash": "b6702b69e93007336b96338c5a331192f07cedff01d36d4dcfa0f842adb718ad"
   }
  }
 },
 "nbformat": 4,
 "nbformat_minor": 5
}
